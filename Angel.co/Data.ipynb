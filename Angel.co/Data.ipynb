{
 "cells": [
  {
   "cell_type": "code",
   "execution_count": 1,
   "metadata": {},
   "outputs": [],
   "source": [
    "from bs4 import BeautifulSoup\n",
    "import re\n",
    "import requests\n",
    "from googlesearch import search "
   ]
  },
  {
   "cell_type": "code",
   "execution_count": 160,
   "metadata": {},
   "outputs": [],
   "source": [
    "def jobs(soup):    \n",
    "    posts = soup.findAll(class_='jobTitle_1e76b')\n",
    "    job_titles = []\n",
    "    for post in posts:\n",
    "        job_titles.append(post.text)\n",
    "\n",
    "    jobs = soup.find_all(class_='component_e6bd3')\n",
    "    job_info = {}\n",
    "    for i in range(len(jobs)):\n",
    "        job_info[job_titles[i]] = {}\n",
    "        params = jobs[i].text.replace(posts[i].text, \"\").replace('₹', \"  \").replace('•',' ').replace('%Apply now', '').split('  ')\n",
    "        job_info[job_titles[i]]['Location'] = params[0]\n",
    "        job_info[job_titles[i]]['Salary'] = params[1] + params[2]\n",
    "        \n",
    "    return job_info\n",
    "\n",
    "def company_details(soup):\n",
    "    \n",
    "    details = soup.find_all(class_='description_f92d0')[0].text\n",
    "\n",
    "    area_of_interest = []\n",
    "    for i in soup.find_all(class_='styles_component__3BR-y'):\n",
    "        area_of_interest.append(i.text)\n",
    "\n",
    "    return details, area_of_interest\n",
    "\n",
    "def fundings(soup):\n",
    "    company_info = {}\n",
    "\n",
    "    company_info['Total_funding'] = soup.find(class_='component_43375').text.split(' ')[0].replace('Funding', '')[:-1]\n",
    "    company_info['funding_rounds'] = soup.find(class_='component_43375').text.split(' ')[0].replace('Funding', '')[-1:]\n",
    "\n",
    "    round_info = soup.findAll(class_='amountRaised_3c2b1')\n",
    "    round_info.reverse()\n",
    "    round_list = ['Seed', 'A', 'B', 'C', 'D']\n",
    "    j = 0\n",
    "    for i in round_info:   \n",
    "        if round_list[j] == 'Seed':\n",
    "            company_info[round_list[j]] = i.text\n",
    "            j +=1\n",
    "        else:\n",
    "            company_info['Round ' + round_list[j]] = i.text\n",
    "            j+=1\n",
    "    return company_info\n",
    "\n",
    "def founders(soup):\n",
    "    data = soup.findAll(class_='__halo_textContrast_dark_AAAA')\n",
    "    data = [i.text for i in soup.findAll(class_='__halo_textContrast_dark_AAAA')]\n",
    "    founders = data[data.index('Founders')+1: data.index('Team')]\n",
    "    return founders\n",
    "\n",
    "company_info = {}\n",
    "# Jobs\n",
    "with open('HTML-files/hash/main.html', 'r') as file:\n",
    "    data = file.read()\n",
    "soup = BeautifulSoup(data)\n",
    "company_info['Jobs'] = jobs(soup)\n",
    "\n",
    "# Company Details\n",
    "details, area_of_interest = company_details(soup)\n",
    "company_info['Company_Information'] = details\n",
    "company_info['Area-of-interest'] = area_of_interest\n",
    "\n",
    "# Fundings\n",
    "with open('HTML-files/hash/funding.html', 'r') as file:\n",
    "    data = file.read()\n",
    "soup = BeautifulSoup(data)\n",
    "company_info['Fundings'] = fundings(soup)\n",
    "\n",
    "# Founders\n",
    "with open('HTML-files/hash/people.html', 'r') as file:\n",
    "    data = file.read()\n",
    "soup = BeautifulSoup(data)\n",
    "company_info['Founders'] = founders(soup)"
   ]
  },
  {
   "cell_type": "code",
   "execution_count": 162,
   "metadata": {},
   "outputs": [
    {
     "data": {
      "text/plain": [
       "dict_keys(['Jobs', 'Company_Information', 'Area-of-interest', 'Fundings', 'Founders'])"
      ]
     },
     "execution_count": 162,
     "metadata": {},
     "output_type": "execute_result"
    }
   ],
   "source": [
    "company_info.keys()"
   ]
  },
  {
   "cell_type": "code",
   "execution_count": null,
   "metadata": {},
   "outputs": [],
   "source": []
  }
 ],
 "metadata": {
  "kernelspec": {
   "display_name": "Python 3",
   "language": "python",
   "name": "python3"
  },
  "language_info": {
   "codemirror_mode": {
    "name": "ipython",
    "version": 3
   },
   "file_extension": ".py",
   "mimetype": "text/x-python",
   "name": "python",
   "nbconvert_exporter": "python",
   "pygments_lexer": "ipython3",
   "version": "3.7.3"
  }
 },
 "nbformat": 4,
 "nbformat_minor": 2
}

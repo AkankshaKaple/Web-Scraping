{
 "cells": [
  {
   "cell_type": "code",
   "execution_count": 50,
   "metadata": {},
   "outputs": [],
   "source": [
    "import cfscrape\n",
    "from bs4 import BeautifulSoup\n",
    "import re\n",
    "import requests\n",
    "from googlesearch import search "
   ]
  },
  {
   "cell_type": "code",
   "execution_count": 51,
   "metadata": {},
   "outputs": [],
   "source": [
    "with open('HTML-files/main.html', 'r') as file:\n",
    "    data = file.read()\n",
    "\n",
    "soup = BeautifulSoup(data)"
   ]
  },
  {
   "cell_type": "code",
   "execution_count": 68,
   "metadata": {},
   "outputs": [
    {
     "data": {
      "text/plain": [
       "\"Re-imagined Banking Experience We're building the most audacious banking experience you can imagine - everything you wanted from your bank but never got. Now's your chance to make it happen and upgrade an archaic industry forever!We are a well-funded, fast-moving start-up in Bangalore. Our funding and seed partners are well-known and reputed international start-up fund houses in the FinTech space.\""
      ]
     },
     "execution_count": 68,
     "metadata": {},
     "output_type": "execute_result"
    }
   ],
   "source": [
    "comany_info = soup.find_all(class_='description_f92d0')[0].text\n",
    "comany_info"
   ]
  },
  {
   "cell_type": "code",
   "execution_count": 53,
   "metadata": {},
   "outputs": [
    {
     "name": "stdout",
     "output_type": "stream",
     "text": [
      "Vinay BagriCoFounder and CEO • 3 years\n",
      "Virender BishtCofounder and CTO • 3 yearsFounder @NiYO Solutions • Worked at @MakeMyTrip, @MobiKwik • Studied at @Nit Kurukshetra \n"
     ]
    }
   ],
   "source": [
    "d = soup.find_all(class_='header_0186d')\n",
    "for i in d:\n",
    "    print(i.text)"
   ]
  },
  {
   "cell_type": "code",
   "execution_count": 54,
   "metadata": {},
   "outputs": [
    {
     "data": {
      "text/plain": [
       "'Virender BishtCofounder and CTO • 3 yearsFounder @NiYO Solutions • Worked at @MakeMyTrip, @MobiKwik • Studied at @Nit Kurukshetra '"
      ]
     },
     "execution_count": 54,
     "metadata": {},
     "output_type": "execute_result"
    }
   ],
   "source": [
    "soup.findAll(class_='header_0186d')[0].text\n",
    "soup.findAll(class_='header_0186d')[1].text"
   ]
  },
  {
   "cell_type": "markdown",
   "metadata": {},
   "source": [
    "# Jobs :"
   ]
  },
  {
   "cell_type": "code",
   "execution_count": 58,
   "metadata": {},
   "outputs": [
    {
     "name": "stdout",
     "output_type": "stream",
     "text": [
      "Sr Software Engineer (Java)Bengaluru₹10L – ₹20L • 0.1 – 0.5%Apply now\n",
      "Corporate salesDelhiChandigarhGandhinagar₹3L – ₹5L • No equityApply now\n",
      "Head of Product ManagementBengaluru₹50L – ₹70L • 0.0 – 0.5%Apply now\n",
      "Full Stack DeveloperBengaluru₹10L – ₹20L • No equityApply now\n",
      "SDET (Software Developer in Test)Bengaluru₹5L – ₹15L • No equityApply now\n",
      "Architect - PlatformBengaluru₹15L – ₹30L • 0.1 – 0.5%Apply now\n"
     ]
    }
   ],
   "source": [
    "# expanded_80d76\n"
   ]
  },
  {
   "cell_type": "code",
   "execution_count": 56,
   "metadata": {},
   "outputs": [
    {
     "name": "stdout",
     "output_type": "stream",
     "text": [
      "Sr Software Engineer (Java)\n",
      "Corporate sales\n",
      "Head of Product Management\n",
      "Full Stack Developer\n",
      "SDET (Software Developer in Test)\n",
      "Architect - Platform\n"
     ]
    }
   ],
   "source": [
    "#__halo_textContrast_dark_AAAA \n",
    "# __halo_fontSizeMap_size--lg \n",
    "# __halo_fontWeight_medium \n",
    "# styles_component__1kg4S styles_flow__3_K06 \n",
    "# jobTitle_1e76b\n",
    "posts = soup.findAll(class_='jobTitle_1e76b')\n",
    "for p in posts:\n",
    "    print(p.text)"
   ]
  },
  {
   "cell_type": "code",
   "execution_count": 74,
   "metadata": {},
   "outputs": [],
   "source": [
    "# for i in soup.findAll(class_='__halo_fontWeight_medium'):\n",
    "#     print(i.text)"
   ]
  },
  {
   "cell_type": "code",
   "execution_count": 73,
   "metadata": {},
   "outputs": [
    {
     "data": {
      "text/plain": [
       "'Re-imagined Banking Experience '"
      ]
     },
     "execution_count": 73,
     "metadata": {},
     "output_type": "execute_result"
    }
   ],
   "source": [
    "soup.find_all(class_='__halo_textContrast_dark_AAAA')[0].text"
   ]
  },
  {
   "cell_type": "code",
   "execution_count": 92,
   "metadata": {},
   "outputs": [
    {
     "name": "stdout",
     "output_type": "stream",
     "text": [
      "['Bengaluru', '10L –', ' 20L', ' 0.1 – 0.5']\n",
      "Sr Software Engineer (Java)\n",
      "['DelhiChandigarhGandhinagar', '3L –', ' 5L', ' No equityApply now']\n",
      "Corporate sales\n",
      "['Bengaluru', '50L –', ' 70L', ' 0.0 – 0.5']\n",
      "Head of Product Management\n",
      "['Bengaluru', '10L –', ' 20L', ' No equityApply now']\n",
      "Full Stack Developer\n",
      "['Bengaluru', '5L –', ' 15L', ' No equityApply now']\n",
      "SDET (Software Developer in Test)\n",
      "['Bengaluru', '15L –', ' 30L', ' 0.1 – 0.5']\n",
      "Architect - Platform\n"
     ]
    }
   ],
   "source": [
    "job = soup.find_all(class_='component_e6bd3')\n",
    "jobs = {}\n",
    "for i in range(len(jobs)):\n",
    "    jobs[]\n",
    "    params = jobs[i].text.replace(posts[i].text, \"\").replace('₹', \"  \").replace('•',' ').replace('%Apply now', '').split('  ')\n",
    "    locationparams[0]\n",
    "    print(posts[i].text)"
   ]
  },
  {
   "cell_type": "code",
   "execution_count": null,
   "metadata": {},
   "outputs": [],
   "source": []
  }
 ],
 "metadata": {
  "kernelspec": {
   "display_name": "Python 3",
   "language": "python",
   "name": "python3"
  },
  "language_info": {
   "codemirror_mode": {
    "name": "ipython",
    "version": 3
   },
   "file_extension": ".py",
   "mimetype": "text/x-python",
   "name": "python",
   "nbconvert_exporter": "python",
   "pygments_lexer": "ipython3",
   "version": "3.7.3"
  }
 },
 "nbformat": 4,
 "nbformat_minor": 2
}

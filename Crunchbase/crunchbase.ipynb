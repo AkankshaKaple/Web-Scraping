{
 "cells": [
  {
   "cell_type": "code",
   "execution_count": 161,
   "metadata": {},
   "outputs": [],
   "source": [
    "from bs4 import BeautifulSoup\n",
    "import requests"
   ]
  },
  {
   "cell_type": "code",
   "execution_count": 195,
   "metadata": {},
   "outputs": [
    {
     "name": "stdout",
     "output_type": "stream",
     "text": [
      "Founder\n",
      "Founder\n"
     ]
    }
   ],
   "source": [
    "def crunchbase(soup):\n",
    "    parameters = ['Total Funding Amount', 'Number of Funding Rounds', 'Number of Lead Investors'\n",
    "                  , 'Monthly Visits', 'Owler Estimated Revenue', 'Number of Current Team Members']\n",
    "\n",
    "    keywords = ['Chief', 'Executive', 'Officer', 'Associate','President'\n",
    "                , 'Technology Evangelist', 'Co-Founder', 'CoFounder', 'Founder']\n",
    "    \n",
    "    info = [i.text for i in soup.findAll(class_='even')]\n",
    "    \n",
    "    Company_Information = {}\n",
    "    founder = {}\n",
    "    for i in info:\n",
    "        data = i.strip().split('\\xa0')\n",
    "        value = data[-1]\n",
    "        key = i.replace(value, '').replace('\\xa0', '')\n",
    "        if key in parameters:\n",
    "            Company_Information[key] = value\n",
    "\n",
    "        for keyword in keywords:\n",
    "            if keyword.lower() in i.lower():\n",
    "                print(keyword)\n",
    "                value = i.strip().split(' ')\n",
    "                name = value[0] + \" \" + value[1]\n",
    "                founder[name] = i.replace(name, '')\n",
    "                break\n",
    "                \n",
    "    return Company_Information, founder\n",
    "\n",
    "with open('HTML-file/Udaan _ Crunchbase.html', 'r') as file:\n",
    "    data = file.read()\n",
    "soup = BeautifulSoup(data)\n",
    "company_info = {}\n",
    "Company_Information, founder = crunchbase(soup)\n",
    "company_info['Company_Information'] = Company_Information\n",
    "company_info['Founders'] = founder"
   ]
  },
  {
   "cell_type": "code",
   "execution_count": 196,
   "metadata": {},
   "outputs": [
    {
     "data": {
      "text/plain": [
       "{'Company_Information': {'Total Funding Amount': '$681.3M',\n",
       "  'Number of Funding Rounds': '7',\n",
       "  'Number of Lead Investors': '4',\n",
       "  'Monthly Visits': '1,003,023',\n",
       "  'Owler Estimated Revenue': '$9.3M',\n",
       "  'Number of Current Team Members': '5'},\n",
       " 'Founders': {'Sujeet kumar': '  Co- founder',\n",
       "  'Vaibhav Gupta': '  Co Founder'}}"
      ]
     },
     "execution_count": 196,
     "metadata": {},
     "output_type": "execute_result"
    }
   ],
   "source": [
    "company_info"
   ]
  }
 ],
 "metadata": {
  "kernelspec": {
   "display_name": "Python 3",
   "language": "python",
   "name": "python3"
  },
  "language_info": {
   "codemirror_mode": {
    "name": "ipython",
    "version": 3
   },
   "file_extension": ".py",
   "mimetype": "text/x-python",
   "name": "python",
   "nbconvert_exporter": "python",
   "pygments_lexer": "ipython3",
   "version": "3.7.3"
  }
 },
 "nbformat": 4,
 "nbformat_minor": 2
}
